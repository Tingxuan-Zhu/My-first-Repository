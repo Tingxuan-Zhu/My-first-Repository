{
 "cells": [
  {
   "metadata": {},
   "cell_type": "markdown",
   "source": "# Data Science Tools and Ecosystem",
   "id": "d4c3c538b7614aaf"
  },
  {
   "metadata": {},
   "cell_type": "markdown",
   "source": "In this notebook, Data Science Tools and Ecosystem are summarized",
   "id": "b900b1383cf2e4ca"
  },
  {
   "metadata": {},
   "cell_type": "markdown",
   "source": [
    "Some of the popular languages that Data Scientists use are:\n",
    "- Python\n",
    "- SQL\n",
    "- R"
   ],
   "id": "408be32e9e99e8a"
  },
  {
   "metadata": {},
   "cell_type": "markdown",
   "source": [
    "Some of the commonly used libraries used by Data Scientists include:\n",
    "- Pandas\n",
    "- Numpy\n",
    "- ggplot"
   ],
   "id": "942fa788e1242305"
  },
  {
   "metadata": {},
   "cell_type": "markdown",
   "source": "# Data Science Toolsa",
   "id": "ada38970cd177e57"
  },
  {
   "metadata": {},
   "cell_type": "markdown",
   "source": "Below are a few examples of evaluating arithmetic expressions in Python",
   "id": "49a4ae1a6ab8be32"
  },
  {
   "metadata": {
    "ExecuteTime": {
     "end_time": "2025-09-23T01:53:27.808461Z",
     "start_time": "2025-09-23T01:53:27.802924Z"
    }
   },
   "cell_type": "code",
   "source": "(3*4)+5     # This is a simple arithmetic expression to multiply then add integers",
   "id": "7b1bd1a8bc5f0b1c",
   "outputs": [
    {
     "data": {
      "text/plain": [
       "17"
      ]
     },
     "execution_count": 1,
     "metadata": {},
     "output_type": "execute_result"
    }
   ],
   "execution_count": 1
  },
  {
   "metadata": {
    "ExecuteTime": {
     "end_time": "2025-09-23T01:54:26.648482Z",
     "start_time": "2025-09-23T01:54:26.644656Z"
    }
   },
   "cell_type": "code",
   "source": "200/60      #This will covert 200 minutes to hours by dividing by 60",
   "id": "14f906f670e85186",
   "outputs": [
    {
     "data": {
      "text/plain": [
       "3.3333333333333335"
      ]
     },
     "execution_count": 2,
     "metadata": {},
     "output_type": "execute_result"
    }
   ],
   "execution_count": 2
  },
  {
   "metadata": {},
   "cell_type": "markdown",
   "source": [
    "**Objectives:**\n",
    "\n",
    "* List popular languages for Data Science\n",
    "* Explore data visualization with R\n",
    "* Understand machine learning model deployment\n",
    "* Identify key Git and GitLab concepts\n",
    "* Convert between data types"
   ],
   "id": "7bd858c99c15fce"
  },
  {
   "metadata": {},
   "cell_type": "markdown",
   "source": [
    "## Author\n",
    "Tingxuan Zhu"
   ],
   "id": "9308e2e85a613876"
  }
 ],
 "metadata": {
  "kernelspec": {
   "display_name": "Python 3",
   "language": "python",
   "name": "python3"
  },
  "language_info": {
   "codemirror_mode": {
    "name": "ipython",
    "version": 2
   },
   "file_extension": ".py",
   "mimetype": "text/x-python",
   "name": "python",
   "nbconvert_exporter": "python",
   "pygments_lexer": "ipython2",
   "version": "2.7.6"
  }
 },
 "nbformat": 4,
 "nbformat_minor": 5
}
